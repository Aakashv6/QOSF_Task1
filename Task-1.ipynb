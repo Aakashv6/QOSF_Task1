{
 "cells": [
  {
   "cell_type": "code",
   "execution_count": 1,
   "metadata": {},
   "outputs": [],
   "source": [
    "# Essential Imports\n",
    "\n",
    "import numpy as np\n",
    "from qiskit import(\n",
    "  QuantumCircuit,\n",
    "  execute,\n",
    "  Aer)\n",
    "\n",
    "from qiskit.visualization import (plot_histogram, \n",
    "                                  plot_bloch_multivector)\n",
    "\n",
    "from matplotlib.animation import FuncAnimation\n",
    "\n",
    "import warnings"
   ]
  },
  {
   "cell_type": "code",
   "execution_count": 2,
   "metadata": {},
   "outputs": [],
   "source": [
    "# PART a"
   ]
  },
  {
   "cell_type": "markdown",
   "metadata": {},
   "source": [
    "<img src=\"a).jpg\"/>"
   ]
  },
  {
   "cell_type": "code",
   "execution_count": 3,
   "metadata": {},
   "outputs": [],
   "source": [
    "# Using Aer's statevector_simulator\n",
    "\n",
    "simulator = Aer.get_backend('statevector_simulator')"
   ]
  },
  {
   "cell_type": "code",
   "execution_count": 4,
   "metadata": {},
   "outputs": [],
   "source": [
    "def plot_qubit(theta, phi, i, j):\n",
    "    \n",
    "    # Variational Quantum Circuit to generate \n",
    "    # the most generalized 1 qubit state \n",
    "\n",
    "    circuit = QuantumCircuit(1, 1)\n",
    "    \n",
    "    # Using the U3 gate to parameterize the |0> state\n",
    "    \n",
    "    circuit.u3(theta, phi, 0, 0)\n",
    "    \n",
    "    # Getting the resultant statevector\n",
    "    \n",
    "    result = execute(circuit, backend=simulator).result()\n",
    "    statevector = result.get_statevector()\n",
    "    \n",
    "    path = \"qubit/\" + \"out\" + str(i+1) + str(j) + \".png\"\n",
    "    \n",
    "    # Saving the Bloch sphere plot\n",
    "    \n",
    "    plot_bloch_multivector(statevector).savefig(path)"
   ]
  },
  {
   "cell_type": "code",
   "execution_count": 5,
   "metadata": {},
   "outputs": [],
   "source": [
    "# Theta and Phi for plotting general qubit state\n",
    "\n",
    "theta = np.linspace(0, np.pi, 9)\n",
    "phi = np.linspace(0, 2*np.pi, 9)\n",
    "\n",
    "for i in range(9):\n",
    "    for j in range(9):\n",
    "        plot_qubit(theta[i], phi[j], i, j)"
   ]
  },
  {
   "cell_type": "code",
   "execution_count": 6,
   "metadata": {},
   "outputs": [],
   "source": [
    "# Combining the png images into mp4 video format\n",
    "# NO NEED TO RUN THIS BLOCK\n",
    "# MP4 FILE IS UPLOADED ON GITHUB\n",
    "\n",
    "import ffmpeg\n",
    "(\n",
    "    ffmpeg\n",
    "    .input('qubit/*.png', pattern_type='glob', framerate=25)\n",
    "    .output('movie.mp4')\n",
    "    .run()\n",
    ")\n",
    "\n",
    "warnings.filterwarnings('ignore')"
   ]
  },
  {
   "cell_type": "code",
   "execution_count": 7,
   "metadata": {},
   "outputs": [
    {
     "data": {
      "text/html": [
       "\n",
       "<div align=\"middle\">\n",
       "    <video width=\"80%\" controls>\n",
       "          <source src=\"movie.mp4\" type=\"video/mp4\">\n",
       "    </video>\n",
       "</div>\n"
      ],
      "text/plain": [
       "<IPython.core.display.HTML object>"
      ]
     },
     "metadata": {},
     "output_type": "display_data"
    }
   ],
   "source": [
    "%%HTML\n",
    "\n",
    "<div align=\"middle\">\n",
    "    <video width=\"80%\" controls>\n",
    "          <source src=\"movie.mp4\" type=\"video/mp4\">\n",
    "    </video>\n",
    "</div>"
   ]
  },
  {
   "cell_type": "code",
   "execution_count": 8,
   "metadata": {},
   "outputs": [],
   "source": [
    "# RESULT: Hence any arbitrary 1 qubit state on the Bloch sphere can be achieved using the U3 gate."
   ]
  },
  {
   "cell_type": "code",
   "execution_count": 9,
   "metadata": {},
   "outputs": [],
   "source": [
    "# PART b"
   ]
  },
  {
   "cell_type": "markdown",
   "metadata": {},
   "source": [
    "<img src=\"b).jpg\" />"
   ]
  },
  {
   "cell_type": "code",
   "execution_count": 10,
   "metadata": {},
   "outputs": [],
   "source": [
    "# Using Aer's qasm_simulator\n",
    "\n",
    "simulator = Aer.get_backend('qasm_simulator')"
   ]
  },
  {
   "cell_type": "code",
   "execution_count": 11,
   "metadata": {},
   "outputs": [],
   "source": [
    "def swap_test(theta1, phi1, theta2, phi2, shots):\n",
    "    \n",
    "    # FUNCTIONAL IMPLEMENTATION OF THE SWAP TEST\n",
    "    \n",
    "    # Quantum Circuit\n",
    "    circuit = QuantumCircuit(3, 1)\n",
    "\n",
    "    circuit.h(0)\n",
    "    circuit.u3(theta1, phi1, 0, 1)\n",
    "    circuit.u3(theta2, phi2, 0, 2)\n",
    "    circuit.cswap(0, 1, 2)\n",
    "    circuit.h(0)\n",
    "\n",
    "    circuit.measure(0, 0)\n",
    "\n",
    "    # Executing the circuit on the qasm simulator\n",
    "    job = execute(circuit, simulator, shots=shots)\n",
    "\n",
    "    # Grabbing results from the job\n",
    "    result = job.result()\n",
    "\n",
    "    # Returns counts\n",
    "    counts = result.get_counts(circuit)\n",
    "    \n",
    "    # Calculating the probability of getting the |0> state\n",
    "    count = counts['0']/shots\n",
    "    \n",
    "    return count"
   ]
  },
  {
   "cell_type": "code",
   "execution_count": 12,
   "metadata": {},
   "outputs": [],
   "source": [
    "def Qubit_params(theta, phi):\n",
    "    \n",
    "    # FUNCTION TO REPRODUCE A RANDOMLY GENERATED 1 QUBIT STATE\n",
    "    \n",
    "    # Given that the randomly generated 1 qubit state\n",
    "    # will be of the form: a|0> + exp(ip1) * b|1>\n",
    "    # where a = cos(t1/2) and b = sin(t1/2)\n",
    "    \n",
    "    # Result of the SWAP TEST\n",
    "    # Prob(0) = (1 + |<q2|q1>|^2) / 2\n",
    "    \n",
    "    # Measurement - 1\n",
    "    prob = swap_test(theta, phi, 0, 0, shots)\n",
    "    \n",
    "    # Assuming |q> = a|0> + exp(ip) * b|1>\n",
    "    a = np.sqrt(2 * prob - 1)\n",
    "    b = np.sqrt(2 - 2 * prob)\n",
    "    \n",
    "    # Theta\n",
    "    t = 2 * np.arccos(a)\n",
    "    \n",
    "    # Measurement - 2\n",
    "    prob = swap_test(theta, phi, np.pi/2, 0, shots)\n",
    "    \n",
    "    # Phi\n",
    "    p = np.arccos(2 * ((prob - 0.75) / (a * b)))\n",
    "\n",
    "    # Measurement - 3\n",
    "    prob = swap_test(theta, phi, t, p, shots)\n",
    "    \n",
    "    # Mapping to Phi either [0, pi] or [pi, 2*pi]\n",
    "    \n",
    "    error = 0.005\n",
    "    \n",
    "    if(prob < (1 - error)):\n",
    "        p = 2 * np.pi - p\n",
    "    \n",
    "    return [t, p]"
   ]
  },
  {
   "cell_type": "code",
   "execution_count": 13,
   "metadata": {},
   "outputs": [],
   "source": [
    "# Generating a random 1 qubit state \n",
    "\n",
    "theta = np.pi * np.random.random()\n",
    "phi = 2 * np.pi * np.random.random()\n",
    "\n",
    "# Measurement parameter\n",
    "shots = 1000\n",
    "\n",
    "# Theta and Phi value of the random state\n",
    "\n",
    "t, p = Qubit_params(theta, phi)"
   ]
  },
  {
   "cell_type": "code",
   "execution_count": 14,
   "metadata": {},
   "outputs": [
    {
     "name": "stdout",
     "output_type": "stream",
     "text": [
      "Theta of original state:  0.6114337579401848\n",
      "Theta of reproduced state:  0.5952648839776852\n",
      "Phi of original state:  2.980091784429706\n",
      "Phi of reproduced state:  2.626601405381011\n"
     ]
    }
   ],
   "source": [
    "# Circuit to check the similarity between the randomly\n",
    "# generated qubit and the reproduced qubit state\n",
    "# using the SWAP test\n",
    "\n",
    "circuit = QuantumCircuit(3, 1)\n",
    "\n",
    "circuit.h(0)\n",
    "circuit.u3(theta, phi, 0, 1)\n",
    "circuit.u3(t, p, 0, 2)\n",
    "circuit.cswap(0, 1, 2)\n",
    "circuit.h(0)\n",
    "\n",
    "circuit.measure(0, 0)\n",
    "\n",
    "print(\"Theta of original state: \", theta)\n",
    "print(\"Theta of reproduced state: \", t)\n",
    "print(\"Phi of original state: \", phi)\n",
    "print(\"Phi of reproduced state: \", p)"
   ]
  },
  {
   "cell_type": "code",
   "execution_count": 15,
   "metadata": {},
   "outputs": [
    {
     "data": {
      "text/html": [
       "<pre style=\"word-wrap: normal;white-space: pre;background: #fff0;line-height: 1.1;font-family: &quot;Courier New&quot;,Courier,monospace\">              ┌───┐             ┌───┐┌─┐\n",
       "q_0: ─────────┤ H ├───────────■─┤ H ├┤M├\n",
       "     ┌────────┴───┴─────────┐ │ └───┘└╥┘\n",
       "q_1: ┤ U3(0.61143,2.9801,0) ├─X───────╫─\n",
       "     ├──────────────────────┤ │       ║ \n",
       "q_2: ┤ U3(0.59526,2.6266,0) ├─X───────╫─\n",
       "     └──────────────────────┘         ║ \n",
       "c_0: ═════════════════════════════════╩═\n",
       "                                        </pre>"
      ],
      "text/plain": [
       "              ┌───┐             ┌───┐┌─┐\n",
       "q_0: ─────────┤ H ├───────────■─┤ H ├┤M├\n",
       "     ┌────────┴───┴─────────┐ │ └───┘└╥┘\n",
       "q_1: ┤ U3(0.61143,2.9801,0) ├─X───────╫─\n",
       "     ├──────────────────────┤ │       ║ \n",
       "q_2: ┤ U3(0.59526,2.6266,0) ├─X───────╫─\n",
       "     └──────────────────────┘         ║ \n",
       "c_0: ═════════════════════════════════╩═\n",
       "                                        "
      ]
     },
     "execution_count": 15,
     "metadata": {},
     "output_type": "execute_result"
    }
   ],
   "source": [
    "# Drawing the check circuit\n",
    "\n",
    "circuit.draw()"
   ]
  },
  {
   "cell_type": "code",
   "execution_count": 16,
   "metadata": {},
   "outputs": [
    {
     "name": "stdout",
     "output_type": "stream",
     "text": [
      "\n",
      "Total count for 0 is: {'1': 1, '0': 999}\n"
     ]
    }
   ],
   "source": [
    "# Execute the circuit on the qasm simulator\n",
    "job = execute(circuit, simulator, shots=shots)\n",
    "\n",
    "# Grab results from the job\n",
    "result = job.result()\n",
    "\n",
    "# Returns counts\n",
    "counts = result.get_counts(circuit)\n",
    "\n",
    "print(\"\\nTotal count for 0 is:\",counts)"
   ]
  },
  {
   "cell_type": "code",
   "execution_count": 17,
   "metadata": {},
   "outputs": [
    {
     "data": {
      "image/png": "[encoded data removed]",
      "text/plain": [
       "<Figure size 504x360 with 1 Axes>"
      ]
     },
     "execution_count": 17,
     "metadata": {},
     "output_type": "execute_result"
    }
   ],
   "source": [
    "# Histogram plot\n",
    "plot_histogram(counts)"
   ]
  },
  {
   "cell_type": "code",
   "execution_count": 18,
   "metadata": {},
   "outputs": [],
   "source": [
    "# RESULT: As the probability of measuring 0 is 0.999 (in the 1st qubit) thus,\n",
    "# the randomly generated 1 qubit state has successfully been reproduced onto\n",
    "# another qubit with very high accuracy"
   ]
  },
  {
   "cell_type": "code",
   "execution_count": 19,
   "metadata": {},
   "outputs": [],
   "source": [
    "# PART c"
   ]
  },
  {
   "cell_type": "markdown",
   "metadata": {},
   "source": [
    "<img src=\"c).jpg\" />"
   ]
  },
  {
   "cell_type": "code",
   "execution_count": 20,
   "metadata": {},
   "outputs": [],
   "source": [
    "# Using Aer's qasm_simulator\n",
    "\n",
    "simulator = Aer.get_backend('qasm_simulator')"
   ]
  },
  {
   "cell_type": "code",
   "execution_count": 21,
   "metadata": {},
   "outputs": [
    {
     "name": "stdout",
     "output_type": "stream",
     "text": [
      "True\n"
     ]
    }
   ],
   "source": [
    "# Parameters\n",
    "\n",
    "N = 10\n",
    "shots = 1000\n",
    "\n",
    "# Random Input Product state \n",
    "I = np.random.randint(2, size=N)\n",
    "ps = np.pi * I\n",
    "\n",
    "# Initializing the Output State\n",
    "state = np.zeros(N)\n",
    "\n",
    "# Performing the SWAP test Qubit by Qubit on the Product state\n",
    "\n",
    "for i in range(N):\n",
    "    \n",
    "    # Circuit\n",
    "    circuit = QuantumCircuit(N+2, 1)\n",
    "\n",
    "    circuit.h(0)\n",
    "    \n",
    "    # Test qubit\n",
    "    circuit.u3(0, 0, 0, 1)\n",
    "    \n",
    "    # Initialzing the Product state\n",
    "    for k in range(N):\n",
    "        circuit.u3(ps[k], 0, 0, k+2)\n",
    "    \n",
    "    # Performing the SWAP test on the ith qubit in the Product state\n",
    "    \n",
    "    circuit.cswap(0, 1, i+2)\n",
    "    circuit.h(0)\n",
    "    circuit.measure(0, 0)\n",
    "    \n",
    "    # Execute the circuit on the qasm simulator\n",
    "    job = execute(circuit, simulator, shots=shots)\n",
    "\n",
    "    # Grab results from the job\n",
    "    result = job.result()\n",
    "\n",
    "    # Returns counts\n",
    "    counts = result.get_counts(circuit)\n",
    "    \n",
    "    # Reconstructing the Product state\n",
    "    state[i] = int(1 - np.rint(2 * (counts['0']/shots - 0.5)))\n",
    "    \n",
    "    \n",
    "# Check for equality of original and reconstructed state\n",
    "\n",
    "print(np.array_equal(I, state))"
   ]
  },
  {
   "cell_type": "code",
   "execution_count": 22,
   "metadata": {},
   "outputs": [
    {
     "name": "stdout",
     "output_type": "stream",
     "text": [
      "Input N qubit state:  [1 1 0 1 0 0 1 0 1 1]\n",
      "Reconstructed N qubit state:  [1. 1. 0. 1. 0. 0. 1. 0. 1. 1.]\n"
     ]
    }
   ],
   "source": [
    "print(\"Input N qubit state: \", I)\n",
    "print(\"Reconstructed N qubit state: \", state)"
   ]
  },
  {
   "cell_type": "code",
   "execution_count": 23,
   "metadata": {},
   "outputs": [],
   "source": [
    "# RESULT: The randomly generated N qubit product state has\n",
    "# successfully been reconstructed using the SWAP test qubit by qubit"
   ]
  }
 ],
 "metadata": {
  "kernelspec": {
   "display_name": "Python 3",
   "language": "python",
   "name": "python3"
  },
  "language_info": {
   "codemirror_mode": {
    "name": "ipython",
    "version": 3
   },
   "file_extension": ".py",
   "mimetype": "text/x-python",
   "name": "python",
   "nbconvert_exporter": "python",
   "pygments_lexer": "ipython3",
   "version": "3.7.3"
  }
 },
 "nbformat": 4,
 "nbformat_minor": 2
}
